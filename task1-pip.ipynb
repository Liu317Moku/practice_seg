{
 "cells": [
  {
   "cell_type": "markdown",
   "id": "0f334e9f-b70a-44ff-9efd-d8638071d0c2",
   "metadata": {},
   "source": [
    "Set env and make link for easier access"
   ]
  },
  {
   "cell_type": "code",
   "execution_count": 1,
   "id": "905f963a-d05a-49ea-a03a-05de2781f92d",
   "metadata": {},
   "outputs": [
    {
     "name": "stdout",
     "output_type": "stream",
     "text": [
      "env: PIP_CACHE_DIR=\"/home/pipcache\"\n",
      "env: TOTALSEG_HOME_DIR=/home/pipcache/.totalsegmentator\n"
     ]
    }
   ],
   "source": [
    "%env PIP_CACHE_DIR=\"/home/pipcache\"\n",
    "%env TOTALSEG_HOME_DIR=/home/pipcache/.totalsegmentator\n",
    "!ln -sf /Public ~"
   ]
  },
  {
   "cell_type": "markdown",
   "id": "200f91cb-71db-4600-872f-110ea269145c",
   "metadata": {},
   "source": [
    "Check env"
   ]
  },
  {
   "cell_type": "code",
   "execution_count": 2,
   "id": "683c8515-79a5-4828-897e-9d635fc4136e",
   "metadata": {},
   "outputs": [
    {
     "name": "stdout",
     "output_type": "stream",
     "text": [
      "\n",
      "\n"
     ]
    }
   ],
   "source": [
    "!echo $PIP_CACHE_DIR\n",
    "!echo $TOTALSEG_HOME_DIR"
   ]
  },
  {
   "cell_type": "markdown",
   "id": "379d97dc-6fdf-4dd0-b250-23373e249d53",
   "metadata": {},
   "source": [
    "Install PyTorch"
   ]
  },
  {
   "cell_type": "code",
   "execution_count": 3,
   "id": "e515f788-a539-43c9-b414-f4abd38e83c8",
   "metadata": {},
   "outputs": [],
   "source": [
    "!pip3 install -q \"torch<2.6.0\" torchvision"
   ]
  },
  {
   "cell_type": "markdown",
   "id": "3a5c47ba-56b3-4ed8-a897-c3ee980bcc94",
   "metadata": {},
   "source": [
    "Install Totalsegmentator"
   ]
  },
  {
   "cell_type": "code",
   "execution_count": 4,
   "id": "1f4e0f6b-406b-4195-b110-fa398a68f54c",
   "metadata": {},
   "outputs": [],
   "source": [
    "#因為執行檔都被安裝在 ~/.local/bin 下，但這個目錄不在你的 PATH 環境變數裡，所以直接輸入命令時可能找不到它們\n",
    "#至Terminal輸入conda activate進入環境後執行\n",
    "#echo 'export PATH=$PATH:/home/帳號名/.local/bin' >> ~/.bashrc\n",
    "#source ~/.bashrc\n",
    "!pip install -q TotalSegmentator"
   ]
  },
  {
   "cell_type": "markdown",
   "id": "053f9e40-1af5-4a0d-897a-69620d2410bf",
   "metadata": {},
   "source": [
    "Segment body parts\n",
    "set --device gpu: (0-7)"
   ]
  },
  {
   "cell_type": "code",
   "execution_count": 5,
   "id": "ce1f9a94-dbd0-4820-bc52-7bb721923e0e",
   "metadata": {},
   "outputs": [
    {
     "name": "stdout",
     "output_type": "stream",
     "text": [
      "\n",
      "If you use this tool please cite: https://pubs.rsna.org/doi/10.1148/ryai.230024\n",
      "\n",
      "Resampling...\n",
      "  Resampled in 46.63s\n",
      "Predicting part 1 of 5 ...\n",
      "100%|███████████████████████████████████████████| 27/27 [00:03<00:00,  8.56it/s]\n",
      "Predicting part 2 of 5 ...\n",
      "100%|███████████████████████████████████████████| 27/27 [00:01<00:00, 22.62it/s]\n",
      "Predicting part 3 of 5 ...\n",
      "100%|███████████████████████████████████████████| 27/27 [00:01<00:00, 22.97it/s]\n",
      "Predicting part 4 of 5 ...\n",
      "100%|███████████████████████████████████████████| 27/27 [00:01<00:00, 22.79it/s]\n",
      "Predicting part 5 of 5 ...\n",
      "100%|███████████████████████████████████████████| 27/27 [00:01<00:00, 23.47it/s]\n",
      "  Predicted in 226.71s\n",
      "Resampling...\n",
      "Saving segmentations...\n",
      "  Saved in 78.15s\n"
     ]
    }
   ],
   "source": [
    "!~/.local/bin/TotalSegmentator --device gpu:1 -i /Public/inference/colon/1.3.6.1.4.1.9328.50.4.0001.nii.gz -o segmentations"
   ]
  },
  {
   "cell_type": "markdown",
   "id": "065e6132-e58f-4128-b452-44af56d5222e",
   "metadata": {},
   "source": [
    "Segment teeth"
   ]
  },
  {
   "cell_type": "code",
   "execution_count": 15,
   "id": "f32e7987-1c0e-4fbe-b595-194cad661c58",
   "metadata": {},
   "outputs": [
    {
     "name": "stdout",
     "output_type": "stream",
     "text": [
      "\n",
      "If you use this tool please cite: https://pubs.rsna.org/doi/10.1148/ryai.230024\n",
      "\n",
      "Generating rough segmentation for cropping...\n",
      "\n",
      "If you use this tool please cite: https://pubs.rsna.org/doi/10.1148/ryai.230024\n",
      "\n",
      "Generating rough segmentation for cropping...\n",
      "Resampling...\n",
      "  Resampled in 3.94s\n",
      "Predicting...\n",
      "100%|█████████████████████████████████████████████| 1/1 [00:00<00:00,  1.77it/s]\n",
      "  Predicted in 8.46s\n",
      "Resampling...\n",
      "  cropping from (512, 512, 262) to (439, 486, 262)\n",
      "Resampling...\n",
      "  Resampled in 6.55s\n",
      "Predicting...\n",
      "100%|███████████████████████████████████████████| 24/24 [00:02<00:00, 11.85it/s]\n",
      "  Predicted in 11.34s\n",
      "Resampling...\n",
      "  cropping from (512, 512, 262) to (260, 244, 210)\n",
      "Resampling...\n",
      "  Resampled in 1.45s\n",
      "Predicting...\n",
      "100%|█████████████████████████████████████████████| 3/3 [00:01<00:00,  2.85it/s]\n",
      "  Predicted in 12.05s\n",
      "Resampling...\n",
      "Saving segmentations...\n",
      "Creating lower_jawbone.nii.gz\n",
      "Creating upper_jawbone.nii.gz\n",
      "Creating left_inferior_alveolar_canal.nii.gz\n",
      "Creating right_inferior_alveolar_canal.nii.gz\n",
      "Creating right_maxillary_sinus.nii.gz\n",
      "Creating left_maxillary_sinus.nii.gz\n",
      "Creating pharynx.nii.gz\n",
      "Creating bridge.nii.gz\n",
      "Creating crown.nii.gz\n",
      "Creating implant.nii.gz\n",
      "Creating upper_right_central_incisor_fdi11.nii.gz\n",
      "Creating upper_right_lateral_incisor_fdi12.nii.gz\n",
      "Creating upper_right_canine_fdi13.nii.gz\n",
      "Creating upper_right_first_premolar_fdi14.nii.gz\n",
      "Creating upper_right_second_premolar_fdi15.nii.gz\n",
      "Creating upper_right_first_molar_fdi16.nii.gz\n",
      "Creating upper_right_second_molar_fdi17.nii.gz\n",
      "Creating upper_right_third_molar_fdi18.nii.gz\n",
      "Creating upper_left_central_incisor_fdi21.nii.gz\n",
      "Creating upper_left_lateral_incisor_fdi22.nii.gz\n",
      "Creating upper_left_canine_fdi23.nii.gz\n",
      "Creating upper_left_first_premolar_fdi24.nii.gz\n",
      "Creating upper_left_second_premolar_fdi25.nii.gz\n",
      "Creating upper_left_first_molar_fdi26.nii.gz\n",
      "Creating upper_left_second_molar_fdi27.nii.gz\n",
      "Creating upper_left_third_molar_fdi28.nii.gz\n",
      "Creating lower_left_central_incisor_fdi31.nii.gz\n",
      "Creating lower_left_lateral_incisor_fdi32.nii.gz\n",
      "Creating lower_left_canine_fdi33.nii.gz\n",
      "Creating lower_left_first_premolar_fdi34.nii.gz\n",
      "Creating lower_left_second_premolar_fdi35.nii.gz\n",
      "Creating lower_left_first_molar_fdi36.nii.gz\n",
      "Creating lower_left_second_molar_fdi37.nii.gz\n",
      "Creating lower_left_third_molar_fdi38.nii.gz\n",
      "Creating lower_right_central_incisor_fdi41.nii.gz\n",
      "Creating lower_right_lateral_incisor_fdi42.nii.gz\n",
      "Creating lower_right_canine_fdi43.nii.gz\n",
      "Creating lower_right_first_premolar_fdi44.nii.gz\n",
      "Creating lower_right_second_premolar_fdi45.nii.gz\n",
      "Creating lower_right_first_molar_fdi46.nii.gz\n",
      "Creating lower_right_second_molar_fdi47.nii.gz\n",
      "Creating lower_right_third_molar_fdi48.nii.gz\n",
      "Creating left_mandibular_incisive_canal_fdi103.nii.gz\n",
      "Creating right_mandibular_incisive_canal_fdi104.nii.gz\n",
      "Creating lingual_canal.nii.gz\n",
      "Creating upper_right_central_incisor_pulp_fdi111.nii.gz\n",
      "Creating upper_right_lateral_incisor_pulp_fdi112.nii.gz\n",
      "Creating upper_right_canine_pulp_fdi113.nii.gz\n",
      "Creating upper_right_first_premolar_pulp_fdi114.nii.gz\n",
      "Creating upper_right_second_premolar_pulp_fdi115.nii.gz\n",
      "Creating upper_right_first_molar_pulp_fdi116.nii.gz\n",
      "Creating upper_right_second_molar_pulp_fdi117.nii.gz\n",
      "Creating upper_right_third_molar_pulp_fdi118.nii.gz\n",
      "Creating upper_left_central_incisor_pulp_fdi121.nii.gz\n",
      "Creating upper_left_lateral_incisor_pulp_fdi122.nii.gz\n",
      "Creating upper_left_canine_pulp_fdi123.nii.gz\n",
      "Creating upper_left_first_premolar_pulp_fdi124.nii.gz\n",
      "Creating upper_left_second_premolar_pulp_fdi125.nii.gz\n",
      "Creating upper_left_first_molar_pulp_fdi126.nii.gz\n",
      "Creating upper_left_second_molar_pulp_fdi127.nii.gz\n",
      "Creating upper_left_third_molar_pulp_fdi128.nii.gz\n",
      "Creating lower_left_central_incisor_pulp_fdi131.nii.gz\n",
      "Creating lower_left_lateral_incisor_pulp_fdi132.nii.gz\n",
      "Creating lower_left_canine_pulp_fdi133.nii.gz\n",
      "Creating lower_left_first_premolar_pulp_fdi134.nii.gz\n",
      "Creating lower_left_second_premolar_pulp_fdi135.nii.gz\n",
      "Creating lower_left_first_molar_pulp_fdi136.nii.gz\n",
      "Creating lower_left_second_molar_pulp_fdi137.nii.gz\n",
      "Creating lower_left_third_molar_pulp_fdi138.nii.gz\n",
      "Creating lower_right_central_incisor_pulp_fdi141.nii.gz\n",
      "Creating lower_right_lateral_incisor_pulp_fdi142.nii.gz\n",
      "Creating lower_right_canine_pulp_fdi143.nii.gz\n",
      "Creating lower_right_first_premolar_pulp_fdi144.nii.gz\n",
      "Creating lower_right_second_premolar_pulp_fdi145.nii.gz\n",
      "Creating lower_right_first_molar_pulp_fdi146.nii.gz\n",
      "Creating lower_right_second_molar_pulp_fdi147.nii.gz\n",
      "Creating lower_right_third_molar_pulp_fdi148.nii.gz\n",
      "  Saved in 27.18s\n"
     ]
    }
   ],
   "source": [
    "!~/.local/bin/TotalSegmentator --device gpu:1 -i /Public/inference/ToothFairy3/ToothFairy3F_001_0000.nii.gz -o teeth --task teeth"
   ]
  },
  {
   "cell_type": "code",
   "execution_count": null,
   "id": "650ea877-9f69-4ebd-82b1-a6e588957c29",
   "metadata": {},
   "outputs": [],
   "source": []
  },
  {
   "cell_type": "code",
   "execution_count": null,
   "id": "864afbe7-aee9-45ed-a96c-0a102899e1d7",
   "metadata": {},
   "outputs": [],
   "source": []
  }
 ],
 "metadata": {
  "kernelspec": {
   "display_name": "Python 3 (ipykernel)",
   "language": "python",
   "name": "python3"
  },
  "language_info": {
   "codemirror_mode": {
    "name": "ipython",
    "version": 3
   },
   "file_extension": ".py",
   "mimetype": "text/x-python",
   "name": "python",
   "nbconvert_exporter": "python",
   "pygments_lexer": "ipython3",
   "version": "3.10.12"
  }
 },
 "nbformat": 4,
 "nbformat_minor": 5
}
