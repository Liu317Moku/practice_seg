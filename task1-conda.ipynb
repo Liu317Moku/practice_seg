{
 "cells": [
  {
   "cell_type": "code",
   "execution_count": 22,
   "id": "1ef8063e-95e6-445f-b6b9-709cb1b568a4",
   "metadata": {},
   "outputs": [
    {
     "name": "stdout",
     "output_type": "stream",
     "text": [
      "# conda environments:\n",
      "#\n",
      "myenv                    /home/sandy0317/.conda/envs/myenv\n",
      "seg                      /home/sandy0317/.conda/envs/seg\n",
      "base                     /opt/conda\n",
      "\n"
     ]
    }
   ],
   "source": [
    "!/opt/conda/condabin/conda env list"
   ]
  },
  {
   "cell_type": "markdown",
   "id": "85145aa3-5361-47fe-a1d0-c7e1ea67cb86",
   "metadata": {},
   "source": [
    "Install pytorch"
   ]
  },
  {
   "cell_type": "code",
   "execution_count": 20,
   "id": "96f42d22-4108-4e99-9e25-ffe985204bea",
   "metadata": {},
   "outputs": [
    {
     "name": "stdout",
     "output_type": "stream",
     "text": [
      "Channels:\n",
      " - pytorch\n",
      " - nvidia\n",
      " - defaults\n",
      "Platform: linux-64\n",
      "Collecting package metadata (repodata.json): done\n",
      "Solving environment: done\n",
      "\n",
      "Downloading and Extracting Packages:\n",
      "\n",
      "Preparing transaction: done\n",
      "Verifying transaction: done\n",
      "Executing transaction: done\n",
      "#\n",
      "# To activate this environment, use\n",
      "#\n",
      "#     $ conda activate myenv\n",
      "#\n",
      "# To deactivate an active environment, use\n",
      "#\n",
      "#     $ conda deactivate\n",
      "\n"
     ]
    }
   ],
   "source": [
    "!/opt/conda/condabin/conda env create -f /home/sandy0317/practice_seg/environment.yml"
   ]
  },
  {
   "cell_type": "code",
   "execution_count": null,
   "id": "23cc92f6-96fe-4e2c-b35f-732e27ed9214",
   "metadata": {},
   "outputs": [],
   "source": []
  }
 ],
 "metadata": {
  "kernelspec": {
   "display_name": "Python 3 (ipykernel)",
   "language": "python",
   "name": "python3"
  },
  "language_info": {
   "codemirror_mode": {
    "name": "ipython",
    "version": 3
   },
   "file_extension": ".py",
   "mimetype": "text/x-python",
   "name": "python",
   "nbconvert_exporter": "python",
   "pygments_lexer": "ipython3",
   "version": "3.10.12"
  }
 },
 "nbformat": 4,
 "nbformat_minor": 5
}
